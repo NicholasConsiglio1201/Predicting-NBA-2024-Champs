{
 "cells": [
  {
   "cell_type": "markdown",
   "id": "d2b0d9be",
   "metadata": {},
   "source": [
    "# Creating our Final Models for NBA Predictions"
   ]
  },
  {
   "cell_type": "markdown",
   "id": "9d7d5e42",
   "metadata": {},
   "source": [
    "**Objective:** The objective of this project is to be able to predict the 2024 NBA Champion. This jupyter notebook contains the models that are used to form the probabilities of whether a team has a good chance of becoming the Champion or not. To develop these predictions, we will be using three classifiers, Logistic Regression, Random Forest, and XGBoost. Once we have the probabilities from all three of the classifiers we will take the average probabilites and that is our final result. \n",
    "\n",
    "* Note: At this point all of the data has been gathered in excel sheets and have been formed in other Jupyter Notebooks. The data being loaded in this notebook is the final version of the training and testing datasets."
   ]
  },
  {
   "cell_type": "markdown",
   "id": "99c7fc14",
   "metadata": {},
   "source": [
    "For building the following 3 classifiers we are going to need to import some packages.\n",
    "\n",
    "* **Pandas** --> Used for Data Manipulation\n",
    "* **Numpy** --> Used for working with Arrays\n",
    "* **Sklearn - Logistic Regression** --> 1 of 3 classifiers used to develop our predictions\n",
    "* **Sklearn - Random Forest Classifier** --> 2 of 3 classifiers used to develop our predictions\n",
    "* **XGBoost** --> 3 of 3 classifiers used to develop our predictions\n",
    "* **Sklearn - OneHotEncoder** --> Allows us to encode categorical data to become numerical\n",
    "* **warnings** --> Removes any red warning output"
   ]
  },
  {
   "cell_type": "markdown",
   "id": "e45ad17a",
   "metadata": {},
   "source": [
    "### Imports"
   ]
  },
  {
   "cell_type": "code",
   "execution_count": 50,
   "id": "cac4ed74",
   "metadata": {},
   "outputs": [],
   "source": [
    "import pandas as pd\n",
    "import numpy as np\n",
    "import matplotlib.pyplot as plt\n",
    "from sklearn.linear_model import LogisticRegression\n",
    "from sklearn.ensemble import RandomForestClassifier\n",
    "from xgboost import XGBClassifier\n",
    "from sklearn.preprocessing import OneHotEncoder\n",
    "import warnings\n",
    "warnings.filterwarnings('ignore')\n",
    "pd.set_option('display.max_rows', None, 'display.max_columns', None)"
   ]
  },
  {
   "cell_type": "markdown",
   "id": "70b1a5f4",
   "metadata": {},
   "source": [
    "# Preparing the Training Data"
   ]
  },
  {
   "cell_type": "code",
   "execution_count": 51,
   "id": "12cf3073",
   "metadata": {},
   "outputs": [],
   "source": [
    "# Pulling in our Training Data\n",
    "training_data = pd.read_excel('NBA_Stats_2000.xlsx')"
   ]
  },
  {
   "cell_type": "code",
   "execution_count": 52,
   "id": "2c7616a7",
   "metadata": {},
   "outputs": [
    {
     "data": {
      "text/html": [
       "<div>\n",
       "<style scoped>\n",
       "    .dataframe tbody tr th:only-of-type {\n",
       "        vertical-align: middle;\n",
       "    }\n",
       "\n",
       "    .dataframe tbody tr th {\n",
       "        vertical-align: top;\n",
       "    }\n",
       "\n",
       "    .dataframe thead th {\n",
       "        text-align: right;\n",
       "    }\n",
       "</style>\n",
       "<table border=\"1\" class=\"dataframe\">\n",
       "  <thead>\n",
       "    <tr style=\"text-align: right;\">\n",
       "      <th></th>\n",
       "      <th>Team</th>\n",
       "      <th>Opp Field Goal Percentage</th>\n",
       "      <th>Year</th>\n",
       "      <th>Accolades</th>\n",
       "      <th>Longest Win Streak</th>\n",
       "      <th>Champion</th>\n",
       "      <th>Off 3-Pointer Percentage</th>\n",
       "      <th>W/L%</th>\n",
       "    </tr>\n",
       "  </thead>\n",
       "  <tbody>\n",
       "    <tr>\n",
       "      <th>0</th>\n",
       "      <td>San Antonio Spurs</td>\n",
       "      <td>0.425</td>\n",
       "      <td>2000</td>\n",
       "      <td>5</td>\n",
       "      <td>7</td>\n",
       "      <td>No</td>\n",
       "      <td>0.374</td>\n",
       "      <td>0.646</td>\n",
       "    </tr>\n",
       "    <tr>\n",
       "      <th>1</th>\n",
       "      <td>New York Knicks</td>\n",
       "      <td>0.424</td>\n",
       "      <td>2000</td>\n",
       "      <td>1</td>\n",
       "      <td>5</td>\n",
       "      <td>No</td>\n",
       "      <td>0.375</td>\n",
       "      <td>0.610</td>\n",
       "    </tr>\n",
       "    <tr>\n",
       "      <th>2</th>\n",
       "      <td>Portland Trail Blazers</td>\n",
       "      <td>0.431</td>\n",
       "      <td>2000</td>\n",
       "      <td>1</td>\n",
       "      <td>11</td>\n",
       "      <td>No</td>\n",
       "      <td>0.361</td>\n",
       "      <td>0.720</td>\n",
       "    </tr>\n",
       "    <tr>\n",
       "      <th>3</th>\n",
       "      <td>Miami Heat</td>\n",
       "      <td>0.422</td>\n",
       "      <td>2000</td>\n",
       "      <td>3</td>\n",
       "      <td>7</td>\n",
       "      <td>No</td>\n",
       "      <td>0.371</td>\n",
       "      <td>0.634</td>\n",
       "    </tr>\n",
       "    <tr>\n",
       "      <th>4</th>\n",
       "      <td>Utah Jazz</td>\n",
       "      <td>0.446</td>\n",
       "      <td>2000</td>\n",
       "      <td>3</td>\n",
       "      <td>9</td>\n",
       "      <td>No</td>\n",
       "      <td>0.385</td>\n",
       "      <td>0.671</td>\n",
       "    </tr>\n",
       "  </tbody>\n",
       "</table>\n",
       "</div>"
      ],
      "text/plain": [
       "                     Team  Opp Field Goal Percentage  Year  Accolades  \\\n",
       "0       San Antonio Spurs                      0.425  2000          5   \n",
       "1         New York Knicks                      0.424  2000          1   \n",
       "2  Portland Trail Blazers                      0.431  2000          1   \n",
       "3              Miami Heat                      0.422  2000          3   \n",
       "4               Utah Jazz                      0.446  2000          3   \n",
       "\n",
       "   Longest Win Streak Champion  Off 3-Pointer Percentage   W/L%  \n",
       "0                   7       No                     0.374  0.646  \n",
       "1                   5       No                     0.375  0.610  \n",
       "2                  11       No                     0.361  0.720  \n",
       "3                   7       No                     0.371  0.634  \n",
       "4                   9       No                     0.385  0.671  "
      ]
     },
     "execution_count": 52,
     "metadata": {},
     "output_type": "execute_result"
    }
   ],
   "source": [
    "# Getting and idea of what our training data looks like\n",
    "training_data[['Team', 'Opp Field Goal Percentage', 'Year', 'Accolades', 'Longest Win Streak', 'Champion', \n",
    "                   'Off 3-Pointer Percentage', 'W/L%']].head()"
   ]
  },
  {
   "cell_type": "code",
   "execution_count": 44,
   "id": "2cd57ee5",
   "metadata": {},
   "outputs": [
    {
     "data": {
      "text/plain": [
       "(715, 66)"
      ]
     },
     "execution_count": 44,
     "metadata": {},
     "output_type": "execute_result"
    }
   ],
   "source": [
    "# Our training data has 715 rows and 66 variables\n",
    "training_data.shape"
   ]
  },
  {
   "cell_type": "code",
   "execution_count": 53,
   "id": "45e22cfd",
   "metadata": {},
   "outputs": [],
   "source": [
    "# Fixing the \"Net Rating\", \"Pace\", and \"Attendance\" variables\n",
    "pace_list = []\n",
    "for i, value in enumerate(training_data['Pace']):\n",
    "    value = float(value)\n",
    "    pace_list.append(value)\n",
    "training_data['Pace'] = pace_list\n",
    "\n",
    "net_rating_list = []\n",
    "for i, value in enumerate(training_data['Net Rating']):\n",
    "    value = float(value)\n",
    "    net_rating_list.append(value)\n",
    "training_data['Net Rating'] = net_rating_list\n",
    "\n",
    "attendance_list = []\n",
    "for i, value in enumerate(training_data['Attendance']):\n",
    "    value = str(value)\n",
    "    value = value.replace(',', '')\n",
    "    value = value.replace('.', '')\n",
    "    value = int(value)\n",
    "    attendance_list.append(value)\n",
    "training_data['Attendance'] = attendance_list"
   ]
  },
  {
   "cell_type": "code",
   "execution_count": 55,
   "id": "d485295f",
   "metadata": {},
   "outputs": [],
   "source": [
    "# Creating different variables\n",
    "training_data['Assist_to_Turnover_Ratio'] = training_data['Off Assists'] / training_data['Off Turnovers']\n",
    "training_data['Margin_of_Victory'] = training_data['Off Points'] - training_data['Opp Points']"
   ]
  },
  {
   "cell_type": "code",
   "execution_count": 56,
   "id": "686a0bb4",
   "metadata": {},
   "outputs": [],
   "source": [
    "# One Hot Encoding the Training Data\n",
    "# Let's get the Categorical Variables\n",
    "categorical_train = training_data[['Champion', 'Top 3 Conference', 'Division', 'Conference', 'MVP']]\n",
    "numerical_train = training_data.drop(['Champion', 'Top 3 Conference', 'Division', 'Conference', 'Team', 'MVP'], axis = 1)\n",
    "\n",
    "# Creating the One Hot Encoder\n",
    "encoder = OneHotEncoder(drop = 'if_binary', sparse_output = False).set_output(transform = 'pandas')\n",
    "# Encoding the Categorical Data\n",
    "encoded_data = encoder.fit_transform(categorical_train)\n",
    "# Having the finalized dataset\n",
    "train_hot_encoded = numerical_train.join(encoded_data)"
   ]
  },
  {
   "cell_type": "code",
   "execution_count": 57,
   "id": "6ada4367",
   "metadata": {},
   "outputs": [],
   "source": [
    "# Creating our Feature Vector and and Target Vector\n",
    "x_train = train_hot_encoded.drop(['Champion_Yes'], axis = 1)\n",
    "x_train = x_train[['Top 3 Conference_Yes', 'MVP_Yes', 'Longest Win Streak', 'W/L%', 'Accolades', 'Net Rating', 'SRS', \n",
    "                  'Off Field Goal Percentage', 'Mean Exp', 'Off Blocks', 'Off 2-Pointer Percentage', 'Off Assists',\n",
    "                  'Off 3-Pointer Percentage', 'Off Defensive Rebounds', 'Assist_to_Turnover_Ratio']]\n",
    "y_train = train_hot_encoded['Champion_Yes']"
   ]
  },
  {
   "cell_type": "markdown",
   "id": "d578845d",
   "metadata": {},
   "source": [
    "# Preparing the Testing Data"
   ]
  },
  {
   "cell_type": "code",
   "execution_count": 58,
   "id": "a6b1d3e3",
   "metadata": {},
   "outputs": [],
   "source": [
    "# Reading in our Testing Data, this will be used to determine who will become the winner\n",
    "testing_data = pd.read_excel('Testing Data.xlsx')\n",
    "# Creating New Variables for the testing data such as \"Assist to Turnover Ratio\" and \"Margin of Victory\"\n",
    "testing_data['Assist_to_Turnover_Ratio'] = testing_data['Off Assists'] / testing_data['Off Turnovers']\n",
    "testing_data['Margin_of_Victory'] = testing_data['Off Points'] - testing_data['Opp Points']"
   ]
  },
  {
   "cell_type": "code",
   "execution_count": 59,
   "id": "30eabb5c",
   "metadata": {},
   "outputs": [],
   "source": [
    "# One Hot Encoding the Testing Data\n",
    "# Let's split up the Categorical Variables and Numeric Variables\n",
    "categorical_test = testing_data[['Champion', 'Top 3 Conference', 'Division', 'Conference', 'MVP']]\n",
    "numerical_test = testing_data.drop(['Champion', 'Top 3 Conference', 'Division', 'Conference', 'Team', 'MVP'], axis = 1)\n",
    "\n",
    "# Creating the One Hot Encoder\n",
    "encoder = OneHotEncoder(drop = 'if_binary', sparse_output = False).set_output(transform = 'pandas')\n",
    "# Encoding the Testing Categorical Data\n",
    "encoded_data = encoder.fit_transform(categorical_test)\n",
    "# Having the finalized test dataset\n",
    "test_hot_encoded = numerical_test.join(encoded_data)"
   ]
  },
  {
   "cell_type": "code",
   "execution_count": 60,
   "id": "8b85e207",
   "metadata": {
    "scrolled": true
   },
   "outputs": [],
   "source": [
    "# Dropping the Championship column since this will be our target variable in what we are predicting\n",
    "x_test = test_hot_encoded.drop(['Champion_No'], axis = 1)\n",
    "# Using all of the variables we think will be best in predicting the Champion\n",
    "x_test = x_test[['Top 3 Conference_Yes', 'MVP_Yes', 'Longest Win Streak', 'W/L%', 'Accolades', 'Net Rating', 'SRS', \n",
    "                  'Off Field Goal Percentage', 'Mean Exp', 'Off Blocks', 'Off 2-Pointer Percentage', 'Off Assists',\n",
    "                  'Off 3-Pointer Percentage', 'Off Defensive Rebounds', 'Assist_to_Turnover_Ratio']]"
   ]
  },
  {
   "cell_type": "markdown",
   "id": "cb6c0c7a",
   "metadata": {},
   "source": [
    "# Creating our 3 Classifier Models"
   ]
  },
  {
   "cell_type": "markdown",
   "id": "1a10391a",
   "metadata": {},
   "source": [
    "Here we will be developing our three classifier models. Logistic Regression, Random Forest, and XGBoost are the 3 models we have chosen to use to determine our predictions."
   ]
  },
  {
   "cell_type": "code",
   "execution_count": 62,
   "id": "71f64bc2",
   "metadata": {},
   "outputs": [
    {
     "data": {
      "text/html": [
       "<style>#sk-container-id-7 {color: black;background-color: white;}#sk-container-id-7 pre{padding: 0;}#sk-container-id-7 div.sk-toggleable {background-color: white;}#sk-container-id-7 label.sk-toggleable__label {cursor: pointer;display: block;width: 100%;margin-bottom: 0;padding: 0.3em;box-sizing: border-box;text-align: center;}#sk-container-id-7 label.sk-toggleable__label-arrow:before {content: \"▸\";float: left;margin-right: 0.25em;color: #696969;}#sk-container-id-7 label.sk-toggleable__label-arrow:hover:before {color: black;}#sk-container-id-7 div.sk-estimator:hover label.sk-toggleable__label-arrow:before {color: black;}#sk-container-id-7 div.sk-toggleable__content {max-height: 0;max-width: 0;overflow: hidden;text-align: left;background-color: #f0f8ff;}#sk-container-id-7 div.sk-toggleable__content pre {margin: 0.2em;color: black;border-radius: 0.25em;background-color: #f0f8ff;}#sk-container-id-7 input.sk-toggleable__control:checked~div.sk-toggleable__content {max-height: 200px;max-width: 100%;overflow: auto;}#sk-container-id-7 input.sk-toggleable__control:checked~label.sk-toggleable__label-arrow:before {content: \"▾\";}#sk-container-id-7 div.sk-estimator input.sk-toggleable__control:checked~label.sk-toggleable__label {background-color: #d4ebff;}#sk-container-id-7 div.sk-label input.sk-toggleable__control:checked~label.sk-toggleable__label {background-color: #d4ebff;}#sk-container-id-7 input.sk-hidden--visually {border: 0;clip: rect(1px 1px 1px 1px);clip: rect(1px, 1px, 1px, 1px);height: 1px;margin: -1px;overflow: hidden;padding: 0;position: absolute;width: 1px;}#sk-container-id-7 div.sk-estimator {font-family: monospace;background-color: #f0f8ff;border: 1px dotted black;border-radius: 0.25em;box-sizing: border-box;margin-bottom: 0.5em;}#sk-container-id-7 div.sk-estimator:hover {background-color: #d4ebff;}#sk-container-id-7 div.sk-parallel-item::after {content: \"\";width: 100%;border-bottom: 1px solid gray;flex-grow: 1;}#sk-container-id-7 div.sk-label:hover label.sk-toggleable__label {background-color: #d4ebff;}#sk-container-id-7 div.sk-serial::before {content: \"\";position: absolute;border-left: 1px solid gray;box-sizing: border-box;top: 0;bottom: 0;left: 50%;z-index: 0;}#sk-container-id-7 div.sk-serial {display: flex;flex-direction: column;align-items: center;background-color: white;padding-right: 0.2em;padding-left: 0.2em;position: relative;}#sk-container-id-7 div.sk-item {position: relative;z-index: 1;}#sk-container-id-7 div.sk-parallel {display: flex;align-items: stretch;justify-content: center;background-color: white;position: relative;}#sk-container-id-7 div.sk-item::before, #sk-container-id-7 div.sk-parallel-item::before {content: \"\";position: absolute;border-left: 1px solid gray;box-sizing: border-box;top: 0;bottom: 0;left: 50%;z-index: -1;}#sk-container-id-7 div.sk-parallel-item {display: flex;flex-direction: column;z-index: 1;position: relative;background-color: white;}#sk-container-id-7 div.sk-parallel-item:first-child::after {align-self: flex-end;width: 50%;}#sk-container-id-7 div.sk-parallel-item:last-child::after {align-self: flex-start;width: 50%;}#sk-container-id-7 div.sk-parallel-item:only-child::after {width: 0;}#sk-container-id-7 div.sk-dashed-wrapped {border: 1px dashed gray;margin: 0 0.4em 0.5em 0.4em;box-sizing: border-box;padding-bottom: 0.4em;background-color: white;}#sk-container-id-7 div.sk-label label {font-family: monospace;font-weight: bold;display: inline-block;line-height: 1.2em;}#sk-container-id-7 div.sk-label-container {text-align: center;}#sk-container-id-7 div.sk-container {/* jupyter's `normalize.less` sets `[hidden] { display: none; }` but bootstrap.min.css set `[hidden] { display: none !important; }` so we also need the `!important` here to be able to override the default hidden behavior on the sphinx rendered scikit-learn.org. See: https://github.com/scikit-learn/scikit-learn/issues/21755 */display: inline-block !important;position: relative;}#sk-container-id-7 div.sk-text-repr-fallback {display: none;}</style><div id=\"sk-container-id-7\" class=\"sk-top-container\"><div class=\"sk-text-repr-fallback\"><pre>LogisticRegression(random_state=2024)</pre><b>In a Jupyter environment, please rerun this cell to show the HTML representation or trust the notebook. <br />On GitHub, the HTML representation is unable to render, please try loading this page with nbviewer.org.</b></div><div class=\"sk-container\" hidden><div class=\"sk-item\"><div class=\"sk-estimator sk-toggleable\"><input class=\"sk-toggleable__control sk-hidden--visually\" id=\"sk-estimator-id-7\" type=\"checkbox\" checked><label for=\"sk-estimator-id-7\" class=\"sk-toggleable__label sk-toggleable__label-arrow\">LogisticRegression</label><div class=\"sk-toggleable__content\"><pre>LogisticRegression(random_state=2024)</pre></div></div></div></div></div>"
      ],
      "text/plain": [
       "LogisticRegression(random_state=2024)"
      ]
     },
     "execution_count": 62,
     "metadata": {},
     "output_type": "execute_result"
    }
   ],
   "source": [
    "# Creating a Logistic Regression Object with default Hyperparameters\n",
    "log_model = LogisticRegression(random_state = 2024)\n",
    "# Training our Logistic Regression Model\n",
    "log_model.fit(x_train, y_train)"
   ]
  },
  {
   "cell_type": "code",
   "execution_count": 63,
   "id": "789e6c1c",
   "metadata": {},
   "outputs": [
    {
     "data": {
      "text/html": [
       "<div>\n",
       "<style scoped>\n",
       "    .dataframe tbody tr th:only-of-type {\n",
       "        vertical-align: middle;\n",
       "    }\n",
       "\n",
       "    .dataframe tbody tr th {\n",
       "        vertical-align: top;\n",
       "    }\n",
       "\n",
       "    .dataframe thead th {\n",
       "        text-align: right;\n",
       "    }\n",
       "</style>\n",
       "<table border=\"1\" class=\"dataframe\">\n",
       "  <thead>\n",
       "    <tr style=\"text-align: right;\">\n",
       "      <th></th>\n",
       "      <th>Team</th>\n",
       "      <th>Year</th>\n",
       "      <th>Logisitic Regression</th>\n",
       "    </tr>\n",
       "  </thead>\n",
       "  <tbody>\n",
       "    <tr>\n",
       "      <th>0</th>\n",
       "      <td>Minnesota Timberwolves</td>\n",
       "      <td>2024</td>\n",
       "      <td>0.064855</td>\n",
       "    </tr>\n",
       "    <tr>\n",
       "      <th>1</th>\n",
       "      <td>New York Knicks</td>\n",
       "      <td>2024</td>\n",
       "      <td>0.038753</td>\n",
       "    </tr>\n",
       "    <tr>\n",
       "      <th>2</th>\n",
       "      <td>Orlando Magic</td>\n",
       "      <td>2024</td>\n",
       "      <td>0.002989</td>\n",
       "    </tr>\n",
       "    <tr>\n",
       "      <th>3</th>\n",
       "      <td>Miami Heat</td>\n",
       "      <td>2024</td>\n",
       "      <td>0.001766</td>\n",
       "    </tr>\n",
       "    <tr>\n",
       "      <th>4</th>\n",
       "      <td>Boston Celtics</td>\n",
       "      <td>2024</td>\n",
       "      <td>0.185752</td>\n",
       "    </tr>\n",
       "  </tbody>\n",
       "</table>\n",
       "</div>"
      ],
      "text/plain": [
       "                     Team  Year  Logisitic Regression\n",
       "0  Minnesota Timberwolves  2024              0.064855\n",
       "1         New York Knicks  2024              0.038753\n",
       "2           Orlando Magic  2024              0.002989\n",
       "3              Miami Heat  2024              0.001766\n",
       "4          Boston Celtics  2024              0.185752"
      ]
     },
     "execution_count": 63,
     "metadata": {},
     "output_type": "execute_result"
    }
   ],
   "source": [
    "# Getting the probabilities of each team becoming a Champion\n",
    "probabilities = log_model.predict_proba(x_test)\n",
    "# Turning those probabilities into a Dataframe\n",
    "probabilities_df = pd.DataFrame(data = probabilities)\n",
    "# Normalizing them\n",
    "normalized_probabilities_df = probabilities_df.div(probabilities_df.sum(axis=0), axis=1)\n",
    "# Creating a dataframe that neatly shows the percentages with corresponding with each team\n",
    "final_df1 = testing_data[['Team', 'Year']]\n",
    "final_df1 = final_df1.join(normalized_probabilities_df)\n",
    "final_df1 = final_df1.rename({1: 'Logisitic Regression'}, axis = 1)\n",
    "final_df1 = final_df1.drop([0], axis = 1)\n",
    "final_df1.head()"
   ]
  },
  {
   "cell_type": "markdown",
   "id": "9ba12f9f",
   "metadata": {},
   "source": [
    "### 2.) Random Forest"
   ]
  },
  {
   "cell_type": "code",
   "execution_count": 64,
   "id": "750e8479",
   "metadata": {},
   "outputs": [
    {
     "data": {
      "text/html": [
       "<style>#sk-container-id-8 {color: black;background-color: white;}#sk-container-id-8 pre{padding: 0;}#sk-container-id-8 div.sk-toggleable {background-color: white;}#sk-container-id-8 label.sk-toggleable__label {cursor: pointer;display: block;width: 100%;margin-bottom: 0;padding: 0.3em;box-sizing: border-box;text-align: center;}#sk-container-id-8 label.sk-toggleable__label-arrow:before {content: \"▸\";float: left;margin-right: 0.25em;color: #696969;}#sk-container-id-8 label.sk-toggleable__label-arrow:hover:before {color: black;}#sk-container-id-8 div.sk-estimator:hover label.sk-toggleable__label-arrow:before {color: black;}#sk-container-id-8 div.sk-toggleable__content {max-height: 0;max-width: 0;overflow: hidden;text-align: left;background-color: #f0f8ff;}#sk-container-id-8 div.sk-toggleable__content pre {margin: 0.2em;color: black;border-radius: 0.25em;background-color: #f0f8ff;}#sk-container-id-8 input.sk-toggleable__control:checked~div.sk-toggleable__content {max-height: 200px;max-width: 100%;overflow: auto;}#sk-container-id-8 input.sk-toggleable__control:checked~label.sk-toggleable__label-arrow:before {content: \"▾\";}#sk-container-id-8 div.sk-estimator input.sk-toggleable__control:checked~label.sk-toggleable__label {background-color: #d4ebff;}#sk-container-id-8 div.sk-label input.sk-toggleable__control:checked~label.sk-toggleable__label {background-color: #d4ebff;}#sk-container-id-8 input.sk-hidden--visually {border: 0;clip: rect(1px 1px 1px 1px);clip: rect(1px, 1px, 1px, 1px);height: 1px;margin: -1px;overflow: hidden;padding: 0;position: absolute;width: 1px;}#sk-container-id-8 div.sk-estimator {font-family: monospace;background-color: #f0f8ff;border: 1px dotted black;border-radius: 0.25em;box-sizing: border-box;margin-bottom: 0.5em;}#sk-container-id-8 div.sk-estimator:hover {background-color: #d4ebff;}#sk-container-id-8 div.sk-parallel-item::after {content: \"\";width: 100%;border-bottom: 1px solid gray;flex-grow: 1;}#sk-container-id-8 div.sk-label:hover label.sk-toggleable__label {background-color: #d4ebff;}#sk-container-id-8 div.sk-serial::before {content: \"\";position: absolute;border-left: 1px solid gray;box-sizing: border-box;top: 0;bottom: 0;left: 50%;z-index: 0;}#sk-container-id-8 div.sk-serial {display: flex;flex-direction: column;align-items: center;background-color: white;padding-right: 0.2em;padding-left: 0.2em;position: relative;}#sk-container-id-8 div.sk-item {position: relative;z-index: 1;}#sk-container-id-8 div.sk-parallel {display: flex;align-items: stretch;justify-content: center;background-color: white;position: relative;}#sk-container-id-8 div.sk-item::before, #sk-container-id-8 div.sk-parallel-item::before {content: \"\";position: absolute;border-left: 1px solid gray;box-sizing: border-box;top: 0;bottom: 0;left: 50%;z-index: -1;}#sk-container-id-8 div.sk-parallel-item {display: flex;flex-direction: column;z-index: 1;position: relative;background-color: white;}#sk-container-id-8 div.sk-parallel-item:first-child::after {align-self: flex-end;width: 50%;}#sk-container-id-8 div.sk-parallel-item:last-child::after {align-self: flex-start;width: 50%;}#sk-container-id-8 div.sk-parallel-item:only-child::after {width: 0;}#sk-container-id-8 div.sk-dashed-wrapped {border: 1px dashed gray;margin: 0 0.4em 0.5em 0.4em;box-sizing: border-box;padding-bottom: 0.4em;background-color: white;}#sk-container-id-8 div.sk-label label {font-family: monospace;font-weight: bold;display: inline-block;line-height: 1.2em;}#sk-container-id-8 div.sk-label-container {text-align: center;}#sk-container-id-8 div.sk-container {/* jupyter's `normalize.less` sets `[hidden] { display: none; }` but bootstrap.min.css set `[hidden] { display: none !important; }` so we also need the `!important` here to be able to override the default hidden behavior on the sphinx rendered scikit-learn.org. See: https://github.com/scikit-learn/scikit-learn/issues/21755 */display: inline-block !important;position: relative;}#sk-container-id-8 div.sk-text-repr-fallback {display: none;}</style><div id=\"sk-container-id-8\" class=\"sk-top-container\"><div class=\"sk-text-repr-fallback\"><pre>RandomForestClassifier(random_state=42)</pre><b>In a Jupyter environment, please rerun this cell to show the HTML representation or trust the notebook. <br />On GitHub, the HTML representation is unable to render, please try loading this page with nbviewer.org.</b></div><div class=\"sk-container\" hidden><div class=\"sk-item\"><div class=\"sk-estimator sk-toggleable\"><input class=\"sk-toggleable__control sk-hidden--visually\" id=\"sk-estimator-id-8\" type=\"checkbox\" checked><label for=\"sk-estimator-id-8\" class=\"sk-toggleable__label sk-toggleable__label-arrow\">RandomForestClassifier</label><div class=\"sk-toggleable__content\"><pre>RandomForestClassifier(random_state=42)</pre></div></div></div></div></div>"
      ],
      "text/plain": [
       "RandomForestClassifier(random_state=42)"
      ]
     },
     "execution_count": 64,
     "metadata": {},
     "output_type": "execute_result"
    }
   ],
   "source": [
    "# Creating our Random Forest Classifier with default hyperparamters\n",
    "rnd_clf = RandomForestClassifier(random_state = 42)\n",
    "# Training our Random Forest Model\n",
    "rnd_clf.fit(x_train, y_train)"
   ]
  },
  {
   "cell_type": "code",
   "execution_count": 65,
   "id": "ae9ecfef",
   "metadata": {},
   "outputs": [
    {
     "data": {
      "text/html": [
       "<div>\n",
       "<style scoped>\n",
       "    .dataframe tbody tr th:only-of-type {\n",
       "        vertical-align: middle;\n",
       "    }\n",
       "\n",
       "    .dataframe tbody tr th {\n",
       "        vertical-align: top;\n",
       "    }\n",
       "\n",
       "    .dataframe thead th {\n",
       "        text-align: right;\n",
       "    }\n",
       "</style>\n",
       "<table border=\"1\" class=\"dataframe\">\n",
       "  <thead>\n",
       "    <tr style=\"text-align: right;\">\n",
       "      <th></th>\n",
       "      <th>Team</th>\n",
       "      <th>Year</th>\n",
       "      <th>Logisitic Regression</th>\n",
       "      <th>Random Forest</th>\n",
       "    </tr>\n",
       "  </thead>\n",
       "  <tbody>\n",
       "    <tr>\n",
       "      <th>0</th>\n",
       "      <td>Minnesota Timberwolves</td>\n",
       "      <td>2024</td>\n",
       "      <td>0.064855</td>\n",
       "      <td>0.037975</td>\n",
       "    </tr>\n",
       "    <tr>\n",
       "      <th>1</th>\n",
       "      <td>New York Knicks</td>\n",
       "      <td>2024</td>\n",
       "      <td>0.038753</td>\n",
       "      <td>0.000000</td>\n",
       "    </tr>\n",
       "    <tr>\n",
       "      <th>2</th>\n",
       "      <td>Orlando Magic</td>\n",
       "      <td>2024</td>\n",
       "      <td>0.002989</td>\n",
       "      <td>0.000000</td>\n",
       "    </tr>\n",
       "    <tr>\n",
       "      <th>3</th>\n",
       "      <td>Miami Heat</td>\n",
       "      <td>2024</td>\n",
       "      <td>0.001766</td>\n",
       "      <td>0.006329</td>\n",
       "    </tr>\n",
       "    <tr>\n",
       "      <th>4</th>\n",
       "      <td>Boston Celtics</td>\n",
       "      <td>2024</td>\n",
       "      <td>0.185752</td>\n",
       "      <td>0.196203</td>\n",
       "    </tr>\n",
       "  </tbody>\n",
       "</table>\n",
       "</div>"
      ],
      "text/plain": [
       "                     Team  Year  Logisitic Regression  Random Forest\n",
       "0  Minnesota Timberwolves  2024              0.064855       0.037975\n",
       "1         New York Knicks  2024              0.038753       0.000000\n",
       "2           Orlando Magic  2024              0.002989       0.000000\n",
       "3              Miami Heat  2024              0.001766       0.006329\n",
       "4          Boston Celtics  2024              0.185752       0.196203"
      ]
     },
     "execution_count": 65,
     "metadata": {},
     "output_type": "execute_result"
    }
   ],
   "source": [
    "# Getting the probabilities of each team becoming a Champion\n",
    "probabilities = rnd_clf.predict_proba(x_test)\n",
    "# Turning those probabilities into a Dataframe\n",
    "probabilities_df = pd.DataFrame(data = probabilities)\n",
    "# Normalizing them\n",
    "normalized_probabilities_df = probabilities_df.div(probabilities_df.sum(axis=0), axis=1)\n",
    "# Creating a dataframe that neatly shows the percentages with corresponding with each team\n",
    "final_df2 = final_df1.join(normalized_probabilities_df)\n",
    "final_df2 = final_df2.drop([0], axis = 1)\n",
    "final_df2 = final_df2.rename({1:'Random Forest'}, axis = 1)\n",
    "final_df2.head()"
   ]
  },
  {
   "cell_type": "markdown",
   "id": "518b0099",
   "metadata": {},
   "source": [
    "### 3.) XG Boost"
   ]
  },
  {
   "cell_type": "code",
   "execution_count": 66,
   "id": "66e45af0",
   "metadata": {},
   "outputs": [
    {
     "data": {
      "text/html": [
       "<style>#sk-container-id-9 {color: black;background-color: white;}#sk-container-id-9 pre{padding: 0;}#sk-container-id-9 div.sk-toggleable {background-color: white;}#sk-container-id-9 label.sk-toggleable__label {cursor: pointer;display: block;width: 100%;margin-bottom: 0;padding: 0.3em;box-sizing: border-box;text-align: center;}#sk-container-id-9 label.sk-toggleable__label-arrow:before {content: \"▸\";float: left;margin-right: 0.25em;color: #696969;}#sk-container-id-9 label.sk-toggleable__label-arrow:hover:before {color: black;}#sk-container-id-9 div.sk-estimator:hover label.sk-toggleable__label-arrow:before {color: black;}#sk-container-id-9 div.sk-toggleable__content {max-height: 0;max-width: 0;overflow: hidden;text-align: left;background-color: #f0f8ff;}#sk-container-id-9 div.sk-toggleable__content pre {margin: 0.2em;color: black;border-radius: 0.25em;background-color: #f0f8ff;}#sk-container-id-9 input.sk-toggleable__control:checked~div.sk-toggleable__content {max-height: 200px;max-width: 100%;overflow: auto;}#sk-container-id-9 input.sk-toggleable__control:checked~label.sk-toggleable__label-arrow:before {content: \"▾\";}#sk-container-id-9 div.sk-estimator input.sk-toggleable__control:checked~label.sk-toggleable__label {background-color: #d4ebff;}#sk-container-id-9 div.sk-label input.sk-toggleable__control:checked~label.sk-toggleable__label {background-color: #d4ebff;}#sk-container-id-9 input.sk-hidden--visually {border: 0;clip: rect(1px 1px 1px 1px);clip: rect(1px, 1px, 1px, 1px);height: 1px;margin: -1px;overflow: hidden;padding: 0;position: absolute;width: 1px;}#sk-container-id-9 div.sk-estimator {font-family: monospace;background-color: #f0f8ff;border: 1px dotted black;border-radius: 0.25em;box-sizing: border-box;margin-bottom: 0.5em;}#sk-container-id-9 div.sk-estimator:hover {background-color: #d4ebff;}#sk-container-id-9 div.sk-parallel-item::after {content: \"\";width: 100%;border-bottom: 1px solid gray;flex-grow: 1;}#sk-container-id-9 div.sk-label:hover label.sk-toggleable__label {background-color: #d4ebff;}#sk-container-id-9 div.sk-serial::before {content: \"\";position: absolute;border-left: 1px solid gray;box-sizing: border-box;top: 0;bottom: 0;left: 50%;z-index: 0;}#sk-container-id-9 div.sk-serial {display: flex;flex-direction: column;align-items: center;background-color: white;padding-right: 0.2em;padding-left: 0.2em;position: relative;}#sk-container-id-9 div.sk-item {position: relative;z-index: 1;}#sk-container-id-9 div.sk-parallel {display: flex;align-items: stretch;justify-content: center;background-color: white;position: relative;}#sk-container-id-9 div.sk-item::before, #sk-container-id-9 div.sk-parallel-item::before {content: \"\";position: absolute;border-left: 1px solid gray;box-sizing: border-box;top: 0;bottom: 0;left: 50%;z-index: -1;}#sk-container-id-9 div.sk-parallel-item {display: flex;flex-direction: column;z-index: 1;position: relative;background-color: white;}#sk-container-id-9 div.sk-parallel-item:first-child::after {align-self: flex-end;width: 50%;}#sk-container-id-9 div.sk-parallel-item:last-child::after {align-self: flex-start;width: 50%;}#sk-container-id-9 div.sk-parallel-item:only-child::after {width: 0;}#sk-container-id-9 div.sk-dashed-wrapped {border: 1px dashed gray;margin: 0 0.4em 0.5em 0.4em;box-sizing: border-box;padding-bottom: 0.4em;background-color: white;}#sk-container-id-9 div.sk-label label {font-family: monospace;font-weight: bold;display: inline-block;line-height: 1.2em;}#sk-container-id-9 div.sk-label-container {text-align: center;}#sk-container-id-9 div.sk-container {/* jupyter's `normalize.less` sets `[hidden] { display: none; }` but bootstrap.min.css set `[hidden] { display: none !important; }` so we also need the `!important` here to be able to override the default hidden behavior on the sphinx rendered scikit-learn.org. See: https://github.com/scikit-learn/scikit-learn/issues/21755 */display: inline-block !important;position: relative;}#sk-container-id-9 div.sk-text-repr-fallback {display: none;}</style><div id=\"sk-container-id-9\" class=\"sk-top-container\"><div class=\"sk-text-repr-fallback\"><pre>XGBClassifier(base_score=None, booster=None, callbacks=None,\n",
       "              colsample_bylevel=None, colsample_bynode=None,\n",
       "              colsample_bytree=None, device=None, early_stopping_rounds=None,\n",
       "              enable_categorical=False, eval_metric=&#x27;logloss&#x27;,\n",
       "              feature_types=None, gamma=None, grow_policy=None,\n",
       "              importance_type=None, interaction_constraints=None,\n",
       "              learning_rate=None, max_bin=None, max_cat_threshold=None,\n",
       "              max_cat_to_onehot=None, max_delta_step=None, max_depth=None,\n",
       "              max_leaves=None, min_child_weight=None, missing=nan,\n",
       "              monotone_constraints=None, multi_strategy=None, n_estimators=None,\n",
       "              n_jobs=None, num_parallel_tree=None, random_state=None, ...)</pre><b>In a Jupyter environment, please rerun this cell to show the HTML representation or trust the notebook. <br />On GitHub, the HTML representation is unable to render, please try loading this page with nbviewer.org.</b></div><div class=\"sk-container\" hidden><div class=\"sk-item\"><div class=\"sk-estimator sk-toggleable\"><input class=\"sk-toggleable__control sk-hidden--visually\" id=\"sk-estimator-id-9\" type=\"checkbox\" checked><label for=\"sk-estimator-id-9\" class=\"sk-toggleable__label sk-toggleable__label-arrow\">XGBClassifier</label><div class=\"sk-toggleable__content\"><pre>XGBClassifier(base_score=None, booster=None, callbacks=None,\n",
       "              colsample_bylevel=None, colsample_bynode=None,\n",
       "              colsample_bytree=None, device=None, early_stopping_rounds=None,\n",
       "              enable_categorical=False, eval_metric=&#x27;logloss&#x27;,\n",
       "              feature_types=None, gamma=None, grow_policy=None,\n",
       "              importance_type=None, interaction_constraints=None,\n",
       "              learning_rate=None, max_bin=None, max_cat_threshold=None,\n",
       "              max_cat_to_onehot=None, max_delta_step=None, max_depth=None,\n",
       "              max_leaves=None, min_child_weight=None, missing=nan,\n",
       "              monotone_constraints=None, multi_strategy=None, n_estimators=None,\n",
       "              n_jobs=None, num_parallel_tree=None, random_state=None, ...)</pre></div></div></div></div></div>"
      ],
      "text/plain": [
       "XGBClassifier(base_score=None, booster=None, callbacks=None,\n",
       "              colsample_bylevel=None, colsample_bynode=None,\n",
       "              colsample_bytree=None, device=None, early_stopping_rounds=None,\n",
       "              enable_categorical=False, eval_metric='logloss',\n",
       "              feature_types=None, gamma=None, grow_policy=None,\n",
       "              importance_type=None, interaction_constraints=None,\n",
       "              learning_rate=None, max_bin=None, max_cat_threshold=None,\n",
       "              max_cat_to_onehot=None, max_delta_step=None, max_depth=None,\n",
       "              max_leaves=None, min_child_weight=None, missing=nan,\n",
       "              monotone_constraints=None, multi_strategy=None, n_estimators=None,\n",
       "              n_jobs=None, num_parallel_tree=None, random_state=None, ...)"
      ]
     },
     "execution_count": 66,
     "metadata": {},
     "output_type": "execute_result"
    }
   ],
   "source": [
    "# Developing an XGBoost Classifier Model\n",
    "xgb_model = XGBClassifier(use_label_encoder = False, eval_metric = 'logloss')\n",
    "# Training our Model\n",
    "xgb_model.fit(x_train, y_train)"
   ]
  },
  {
   "cell_type": "code",
   "execution_count": 67,
   "id": "03b1c0e7",
   "metadata": {},
   "outputs": [
    {
     "data": {
      "text/html": [
       "<div>\n",
       "<style scoped>\n",
       "    .dataframe tbody tr th:only-of-type {\n",
       "        vertical-align: middle;\n",
       "    }\n",
       "\n",
       "    .dataframe tbody tr th {\n",
       "        vertical-align: top;\n",
       "    }\n",
       "\n",
       "    .dataframe thead th {\n",
       "        text-align: right;\n",
       "    }\n",
       "</style>\n",
       "<table border=\"1\" class=\"dataframe\">\n",
       "  <thead>\n",
       "    <tr style=\"text-align: right;\">\n",
       "      <th></th>\n",
       "      <th>Team</th>\n",
       "      <th>Year</th>\n",
       "      <th>Logisitic Regression</th>\n",
       "      <th>Random Forest</th>\n",
       "      <th>XG Boost</th>\n",
       "    </tr>\n",
       "  </thead>\n",
       "  <tbody>\n",
       "    <tr>\n",
       "      <th>0</th>\n",
       "      <td>Minnesota Timberwolves</td>\n",
       "      <td>2024</td>\n",
       "      <td>0.064855</td>\n",
       "      <td>0.037975</td>\n",
       "      <td>0.015813</td>\n",
       "    </tr>\n",
       "    <tr>\n",
       "      <th>1</th>\n",
       "      <td>New York Knicks</td>\n",
       "      <td>2024</td>\n",
       "      <td>0.038753</td>\n",
       "      <td>0.000000</td>\n",
       "      <td>0.001584</td>\n",
       "    </tr>\n",
       "    <tr>\n",
       "      <th>2</th>\n",
       "      <td>Orlando Magic</td>\n",
       "      <td>2024</td>\n",
       "      <td>0.002989</td>\n",
       "      <td>0.000000</td>\n",
       "      <td>0.000759</td>\n",
       "    </tr>\n",
       "    <tr>\n",
       "      <th>3</th>\n",
       "      <td>Miami Heat</td>\n",
       "      <td>2024</td>\n",
       "      <td>0.001766</td>\n",
       "      <td>0.006329</td>\n",
       "      <td>0.000806</td>\n",
       "    </tr>\n",
       "    <tr>\n",
       "      <th>4</th>\n",
       "      <td>Boston Celtics</td>\n",
       "      <td>2024</td>\n",
       "      <td>0.185752</td>\n",
       "      <td>0.196203</td>\n",
       "      <td>0.570100</td>\n",
       "    </tr>\n",
       "  </tbody>\n",
       "</table>\n",
       "</div>"
      ],
      "text/plain": [
       "                     Team  Year  Logisitic Regression  Random Forest  XG Boost\n",
       "0  Minnesota Timberwolves  2024              0.064855       0.037975  0.015813\n",
       "1         New York Knicks  2024              0.038753       0.000000  0.001584\n",
       "2           Orlando Magic  2024              0.002989       0.000000  0.000759\n",
       "3              Miami Heat  2024              0.001766       0.006329  0.000806\n",
       "4          Boston Celtics  2024              0.185752       0.196203  0.570100"
      ]
     },
     "execution_count": 67,
     "metadata": {},
     "output_type": "execute_result"
    }
   ],
   "source": [
    "# Getting the probabilities of each team becoming a Champion\n",
    "probabilities_xgb = xgb_model.predict_proba(x_test)\n",
    "# Convert the array of probabilities to a DataFrame and normalize them\n",
    "probabilities_xgb_df = pd.DataFrame(data = probabilities_xgb)\n",
    "normalized_probabilities_xgb_df = probabilities_xgb_df.div(probabilities_xgb_df.sum(axis=0), axis=1)\n",
    "# Creating a dataframe that will join the XGBoost Probabilities to the current other probabilities\n",
    "final_df3 = final_df2.join(normalized_probabilities_xgb_df)\n",
    "final_df3 = final_df3.drop([0], axis = 1)\n",
    "final_df3 = final_df3.rename({1:'XG Boost'}, axis = 1)\n",
    "final_df3.head()"
   ]
  },
  {
   "cell_type": "markdown",
   "id": "6da1b8eb",
   "metadata": {},
   "source": [
    "### Getting our Final Predictions"
   ]
  },
  {
   "cell_type": "code",
   "execution_count": 68,
   "id": "53353841",
   "metadata": {},
   "outputs": [
    {
     "data": {
      "text/html": [
       "<div>\n",
       "<style scoped>\n",
       "    .dataframe tbody tr th:only-of-type {\n",
       "        vertical-align: middle;\n",
       "    }\n",
       "\n",
       "    .dataframe tbody tr th {\n",
       "        vertical-align: top;\n",
       "    }\n",
       "\n",
       "    .dataframe thead th {\n",
       "        text-align: right;\n",
       "    }\n",
       "</style>\n",
       "<table border=\"1\" class=\"dataframe\">\n",
       "  <thead>\n",
       "    <tr style=\"text-align: right;\">\n",
       "      <th></th>\n",
       "      <th>Team</th>\n",
       "      <th>Mean</th>\n",
       "    </tr>\n",
       "  </thead>\n",
       "  <tbody>\n",
       "    <tr>\n",
       "      <th>4</th>\n",
       "      <td>Boston Celtics</td>\n",
       "      <td>0.317352</td>\n",
       "    </tr>\n",
       "    <tr>\n",
       "      <th>5</th>\n",
       "      <td>Denver Nuggets</td>\n",
       "      <td>0.278632</td>\n",
       "    </tr>\n",
       "    <tr>\n",
       "      <th>10</th>\n",
       "      <td>Oklahoma City Thunder</td>\n",
       "      <td>0.105251</td>\n",
       "    </tr>\n",
       "    <tr>\n",
       "      <th>20</th>\n",
       "      <td>Milwaukee Bucks</td>\n",
       "      <td>0.057393</td>\n",
       "    </tr>\n",
       "    <tr>\n",
       "      <th>26</th>\n",
       "      <td>Indiana Pacers</td>\n",
       "      <td>0.049045</td>\n",
       "    </tr>\n",
       "  </tbody>\n",
       "</table>\n",
       "</div>"
      ],
      "text/plain": [
       "                     Team      Mean\n",
       "4          Boston Celtics  0.317352\n",
       "5          Denver Nuggets  0.278632\n",
       "10  Oklahoma City Thunder  0.105251\n",
       "20        Milwaukee Bucks  0.057393\n",
       "26         Indiana Pacers  0.049045"
      ]
     },
     "execution_count": 68,
     "metadata": {},
     "output_type": "execute_result"
    }
   ],
   "source": [
    "final_df3['Mean'] = final_df3[['Logisitic Regression', 'Random Forest', 'XG Boost']].mean(axis=1)\n",
    "final_df3.sort_values('Mean', ascending = False)[['Team', 'Mean']][:5]"
   ]
  }
 ],
 "metadata": {
  "kernelspec": {
   "display_name": "Python 3 (ipykernel)",
   "language": "python",
   "name": "python3"
  },
  "language_info": {
   "codemirror_mode": {
    "name": "ipython",
    "version": 3
   },
   "file_extension": ".py",
   "mimetype": "text/x-python",
   "name": "python",
   "nbconvert_exporter": "python",
   "pygments_lexer": "ipython3",
   "version": "3.11.3"
  }
 },
 "nbformat": 4,
 "nbformat_minor": 5
}
